{
  "nbformat": 4,
  "nbformat_minor": 0,
  "metadata": {
    "colab": {
      "name": "HW_Day3.ipynb",
      "provenance": [],
      "collapsed_sections": [],
      "toc_visible": true
    },
    "kernelspec": {
      "display_name": "Python 3",
      "language": "python",
      "name": "python3"
    },
    "language_info": {
      "codemirror_mode": {
        "name": "ipython",
        "version": 3
      },
      "file_extension": ".py",
      "mimetype": "text/x-python",
      "name": "python",
      "nbconvert_exporter": "python",
      "pygments_lexer": "ipython3",
      "version": "3.7.4"
    }
  },
  "cells": [
    {
      "cell_type": "code",
      "metadata": {
        "colab_type": "code",
        "id": "Pq9Jt4e6jjIP",
        "colab": {}
      },
      "source": [
        " import keras\n",
        "keras.__version__\n",
        "from keras.datasets import imdb\n",
        "import numpy as np\n",
        "from keras import models\n",
        "from keras import layers\n",
        "from keras import optimizers\n",
        "from keras import losses\n",
        "from keras import metrics\n",
        "import matplotlib.pyplot as plt"
      ],
      "execution_count": 1,
      "outputs": []
    },
    {
      "cell_type": "markdown",
      "metadata": {
        "colab_type": "text",
        "id": "r7H_wgzEjjIe"
      },
      "source": [
        "# Homework Three\n",
        "\n",
        "This notebook is adapted from Chapter 3, Section 4 of [Deep Learning with Python](https://www.manning.com/books/deep-learning-with-python?a_aid=keras&a_bid=76564dff) by Francois Chollet. You will have seen Chapter 3, section 5 as a demonstration this morning.  You should read these sections as you work through the assignment.\n",
        "\n",
        "Your goal with this notebook is to carry out the execution of a machine learning program to classify text files.  Yesterday, you trained a machine to be able to identify certain images (e.g. as an apple, a banana, etc.).  Today the question is whether the computer can take a written reaction to a film and tell whether the reviewer overall had a positive or negative opinion of a movie.\n",
        "\n",
        "Along the way, we will emphasize the importance of shaping the data into a form that the computer can process.  Although your project will not likely use these exact steps, unless you choose a text-based project, it is highly unlikely that you won't have to reshape your data in some manner to get it into the program -- this worksheet will give you practice in one way of doing that.\n",
        "\n",
        "As usual, make sure your name is at the top of this.  You may work with a partner on this homework, if you wish.\n",
        "\n",
        "Make sure you run the first cell, above, to import all the necessary libraries."
      ]
    },
    {
      "cell_type": "markdown",
      "metadata": {
        "colab_type": "text",
        "id": "sUIEAcv0jjIg"
      },
      "source": [
        "## The IMDB dataset (This cell copied from Chollet)\n",
        "\n",
        "\n",
        "We'll be working with \"IMDB dataset\", a set of 50,000 highly-polarized reviews from the Internet Movie Database. They are split into 25,000 \n",
        "reviews for training and 25,000 reviews for testing, each set consisting in 50% negative and 50% positive reviews.\n",
        "\n",
        "Why do we have these two separate training and test sets? You should never test a machine learning model on the same data that you used to \n",
        "train it! Just because a model performs well on its training data doesn't mean that it will perform well on data it has never seen, and \n",
        "what you actually care about is your model's performance on new data (since you already know the labels of your training data -- obviously \n",
        "you don't need your model to predict those). For instance, it is possible that your model could end up merely _memorizing_ a mapping between \n",
        "your training samples and their targets -- which would be completely useless for the task of predicting targets for data never seen before. \n",
        "We will go over this point in much more detail in the next chapter.\n",
        "\n",
        "The IMDB dataset comes packaged with Keras. It has already been preprocessed: the reviews (sequences of words) \n",
        "have been turned into sequences of integers, where each integer stands for a specific word in a dictionary.\n",
        "\n",
        "The following code will load the dataset:"
      ]
    },
    {
      "cell_type": "code",
      "metadata": {
        "colab_type": "code",
        "id": "q26i57TDjjIj",
        "colab": {
          "base_uri": "https://localhost:8080/",
          "height": 51
        },
        "outputId": "d23485dd-f436-4ae1-9acb-7252a60cbf32"
      },
      "source": [
        "(train_data, train_labels), (test_data, test_labels) = imdb.load_data(num_words=10000)"
      ],
      "execution_count": 2,
      "outputs": [
        {
          "output_type": "stream",
          "text": [
            "Downloading data from https://storage.googleapis.com/tensorflow/tf-keras-datasets/imdb.npz\n",
            "17465344/17464789 [==============================] - 0s 0us/step\n"
          ],
          "name": "stdout"
        }
      ]
    },
    {
      "cell_type": "markdown",
      "metadata": {
        "colab_type": "text",
        "id": "oz5N3ivIjjIp"
      },
      "source": [
        "From Chollet:\n",
        "\n",
        "The argument `num_words=10000` means that we will only keep the top 10,000 most frequently occurring words in the training data. Rare words \n",
        "will be discarded. This allows us to work with vector data of manageable size.\n",
        "\n",
        "The variables `train_data` and `test_data` are lists of reviews, each review being a list of word indices (encoding a sequence of words). \n",
        "`train_labels` and `test_labels` are lists of 0s and 1s, where 0 stands for \"negative\" and 1 stands for \"positive\":"
      ]
    },
    {
      "cell_type": "markdown",
      "metadata": {
        "colab_type": "text",
        "id": "x-seZnQetlQp"
      },
      "source": [
        "Let's perform some operations to understand just what you've downloaded here.  According to Chollet's introduction, the total number of movie reviews has been split into two halves: one for training and one for testing.  If you print the length of the variables `train_data`, `train_labels`, `test_data`, and `test_labels`, how long should each of them be?  Carry out this check and see if the answers are what you expected:"
      ]
    },
    {
      "cell_type": "code",
      "metadata": {
        "colab_type": "code",
        "id": "8g2ou7mkjjIr",
        "colab": {
          "base_uri": "https://localhost:8080/",
          "height": 34
        },
        "outputId": "5aabe41e-ca3e-4ee4-c41e-ff1c92edaab0"
      },
      "source": [
        "len(train_data)"
      ],
      "execution_count": 3,
      "outputs": [
        {
          "output_type": "execute_result",
          "data": {
            "text/plain": [
              "25000"
            ]
          },
          "metadata": {
            "tags": []
          },
          "execution_count": 3
        }
      ]
    },
    {
      "cell_type": "markdown",
      "metadata": {
        "colab_type": "text",
        "id": "L1XmEbPluHSL"
      },
      "source": [
        "<font color=red>Did you get what you expected?</font>\n",
        "\n",
        "Yes, since the dataset will be split into two there will be 25000 reviews to train with and  25000 reviews to test with. Since the command says len(train_data) it will display the amount of training data which is 25000"
      ]
    },
    {
      "cell_type": "markdown",
      "metadata": {
        "colab_type": "text",
        "id": "4KKWH3NzuSQ1"
      },
      "source": [
        "Now, let's look at what is in each of these variables:  try printing one of the training data examples.  Pick a number you like between 0 and 24,999."
      ]
    },
    {
      "cell_type": "code",
      "metadata": {
        "colab_type": "code",
        "id": "HkaavCX_jjIx",
        "colab": {}
      },
      "source": [
        "mynumber = 24998"
      ],
      "execution_count": 28,
      "outputs": []
    },
    {
      "cell_type": "markdown",
      "metadata": {
        "colab_type": "text",
        "id": "6m3rCOpdupAB"
      },
      "source": [
        "Let's look at the training data and the label of your chosen example:"
      ]
    },
    {
      "cell_type": "code",
      "metadata": {
        "colab_type": "code",
        "id": "N0dxjtnuu0sk",
        "colab": {
          "base_uri": "https://localhost:8080/",
          "height": 1000
        },
        "outputId": "16721ff4-ce99-4ab7-b7d4-c7a784e99240"
      },
      "source": [
        "train_data[mynumber]"
      ],
      "execution_count": 29,
      "outputs": [
        {
          "output_type": "execute_result",
          "data": {
            "text/plain": [
              "[1,\n",
              " 1446,\n",
              " 7079,\n",
              " 69,\n",
              " 72,\n",
              " 3305,\n",
              " 13,\n",
              " 610,\n",
              " 930,\n",
              " 8,\n",
              " 12,\n",
              " 582,\n",
              " 23,\n",
              " 5,\n",
              " 16,\n",
              " 484,\n",
              " 685,\n",
              " 54,\n",
              " 349,\n",
              " 11,\n",
              " 4120,\n",
              " 2959,\n",
              " 45,\n",
              " 58,\n",
              " 1466,\n",
              " 13,\n",
              " 197,\n",
              " 12,\n",
              " 16,\n",
              " 43,\n",
              " 23,\n",
              " 2,\n",
              " 5,\n",
              " 62,\n",
              " 30,\n",
              " 145,\n",
              " 402,\n",
              " 11,\n",
              " 4131,\n",
              " 51,\n",
              " 575,\n",
              " 32,\n",
              " 61,\n",
              " 369,\n",
              " 71,\n",
              " 66,\n",
              " 770,\n",
              " 12,\n",
              " 1054,\n",
              " 75,\n",
              " 100,\n",
              " 2198,\n",
              " 8,\n",
              " 4,\n",
              " 105,\n",
              " 37,\n",
              " 69,\n",
              " 147,\n",
              " 712,\n",
              " 75,\n",
              " 3543,\n",
              " 44,\n",
              " 257,\n",
              " 390,\n",
              " 5,\n",
              " 69,\n",
              " 263,\n",
              " 514,\n",
              " 105,\n",
              " 50,\n",
              " 286,\n",
              " 1814,\n",
              " 23,\n",
              " 4,\n",
              " 123,\n",
              " 13,\n",
              " 161,\n",
              " 40,\n",
              " 5,\n",
              " 421,\n",
              " 4,\n",
              " 116,\n",
              " 16,\n",
              " 897,\n",
              " 13,\n",
              " 2,\n",
              " 40,\n",
              " 319,\n",
              " 5872,\n",
              " 112,\n",
              " 6700,\n",
              " 11,\n",
              " 4803,\n",
              " 121,\n",
              " 25,\n",
              " 70,\n",
              " 3468,\n",
              " 4,\n",
              " 719,\n",
              " 3798,\n",
              " 13,\n",
              " 18,\n",
              " 31,\n",
              " 62,\n",
              " 40,\n",
              " 8,\n",
              " 7200,\n",
              " 4,\n",
              " 2,\n",
              " 7,\n",
              " 14,\n",
              " 123,\n",
              " 5,\n",
              " 942,\n",
              " 25,\n",
              " 8,\n",
              " 721,\n",
              " 12,\n",
              " 145,\n",
              " 5,\n",
              " 202,\n",
              " 12,\n",
              " 160,\n",
              " 580,\n",
              " 202,\n",
              " 12,\n",
              " 6,\n",
              " 52,\n",
              " 58,\n",
              " 2,\n",
              " 92,\n",
              " 401,\n",
              " 728,\n",
              " 12,\n",
              " 39,\n",
              " 14,\n",
              " 251,\n",
              " 8,\n",
              " 15,\n",
              " 251,\n",
              " 5,\n",
              " 2,\n",
              " 12,\n",
              " 38,\n",
              " 84,\n",
              " 80,\n",
              " 124,\n",
              " 12,\n",
              " 9,\n",
              " 23]"
            ]
          },
          "metadata": {
            "tags": []
          },
          "execution_count": 29
        }
      ]
    },
    {
      "cell_type": "code",
      "metadata": {
        "colab_type": "code",
        "id": "k-WdUjuZvRfJ",
        "colab": {
          "base_uri": "https://localhost:8080/",
          "height": 34
        },
        "outputId": "96c447d2-acfd-4dc9-8c77-754796d3a2f1"
      },
      "source": [
        "train_labels[mynumber]"
      ],
      "execution_count": 30,
      "outputs": [
        {
          "output_type": "execute_result",
          "data": {
            "text/plain": [
              "1"
            ]
          },
          "metadata": {
            "tags": []
          },
          "execution_count": 30
        }
      ]
    },
    {
      "cell_type": "markdown",
      "metadata": {
        "colab_type": "text",
        "id": "2SEEXCe9vVFf"
      },
      "source": [
        "<font color=red>Describe your output and explain what it means</font>\n",
        "\n",
        "---\n",
        "\n",
        "\n",
        "This output means that the review selected was positive and the output displays 1 to indicate that the review is lablled as a positive review."
      ]
    },
    {
      "cell_type": "markdown",
      "metadata": {
        "colab_type": "text",
        "id": "iWM6nRjxjjI9"
      },
      "source": [
        "Now, let's convert your example review back to English so you can actually read it."
      ]
    },
    {
      "cell_type": "code",
      "metadata": {
        "colab_type": "code",
        "id": "aPfNGgYWjjI-",
        "colab": {
          "base_uri": "https://localhost:8080/",
          "height": 51
        },
        "outputId": "95b33e19-d9c5-4d06-da5a-d4648df12306"
      },
      "source": [
        "# word_index is a dictionary mapping words to an integer index\n",
        "word_index = imdb.get_word_index() # This variable links each word to a number\n",
        "# We reverse it, mapping integer indices to words\n",
        "reverse_word_index = dict([(value, key) for (key, value) in word_index.items()])\n",
        "# We decode the review; note that our indices were offset by 3\n",
        "# because 0, 1 and 2 are reserved indices for \"padding\", \"start of sequence\", and \"unknown\".\n",
        "decoded_review = ' '.join([reverse_word_index.get(i - 3, '?') for i in train_data[mynumber]])"
      ],
      "execution_count": 7,
      "outputs": [
        {
          "output_type": "stream",
          "text": [
            "Downloading data from https://storage.googleapis.com/tensorflow/tf-keras-datasets/imdb_word_index.json\n",
            "1646592/1641221 [==============================] - 0s 0us/step\n"
          ],
          "name": "stdout"
        }
      ]
    },
    {
      "cell_type": "code",
      "metadata": {
        "colab_type": "code",
        "id": "5HKVjlayjjJC",
        "colab": {
          "base_uri": "https://localhost:8080/",
          "height": 86
        },
        "outputId": "198d25ac-f5f0-479a-c0d8-9ac73a036d74"
      },
      "source": [
        "decoded_review\n"
      ],
      "execution_count": 8,
      "outputs": [
        {
          "output_type": "execute_result",
          "data": {
            "application/vnd.google.colaboratory.intrinsic+json": {
              "type": "string"
            },
            "text/plain": [
              "\"? six degrees had me hooked i looked forward to it coming on and was totally disappointed when men in trees replaced it's time spot i thought it was just on ? and would be back early in 2007 what happened all my friends were really surprised it ended we could relate to the characters who had real problems we talked about each episode and had our favorite characters there wasn't anybody on the show i didn't like and felt the acting was superb i ? like seeing programs being taped in cities where you can identify the local areas i for one would like to protest the ? of this show and ask you to bring it back and give it another chance give it a good time ? don't keep moving it from this day to that day and ? it so people will know it is on\""
            ]
          },
          "metadata": {
            "tags": []
          },
          "execution_count": 8
        }
      ]
    },
    {
      "cell_type": "markdown",
      "metadata": {
        "colab_type": "text",
        "id": "BZz3IJjBv0ZU"
      },
      "source": [
        "<font color=red>Would you say this is a positive or negative review?  Does that match the `training_label` value?</font>\n",
        "\n",
        "This review is postivie and it matches the training label since it labels it as 1 which means that it is positive.\n",
        "\n",
        "(Try running it for a few more numbers until you get both a positive and a negative review.  Can you find a movie you've seen?)"
      ]
    },
    {
      "cell_type": "markdown",
      "metadata": {
        "colab_type": "text",
        "id": "T8HXkik6jjJG"
      },
      "source": [
        "## Preparing the data\n",
        "\n",
        "The neural network software requires that the input be in a particular format.  The list of numbers you saw in `train_data` is not the correct format.  Instead of a list, we need a tensor.  For this problem, the way we are going to do that is make a tensor that has 25,000 rows and 10,000 columns (10,000 because we are using the 10,000 most common words) and is all filled with zeros.  Then, each column stands for a particular word.  Each row is a particular review.  If a particular word appears in the review, we turn the associated column to a one.\n",
        "\n",
        "Already you can see a semantic weakness in this approach -- we're training the network purely based on what words appear.  With this method, we lose all information about the order they appear as well as how many times they appear."
      ]
    },
    {
      "cell_type": "code",
      "metadata": {
        "colab_type": "code",
        "id": "sggPix1vjjJH",
        "colab": {}
      },
      "source": [
        "def vectorize_sequences(sequences, dimension=10000):\n",
        "    # Create an all-zero matrix of shape (len(sequences), dimension)\n",
        "    results = np.zeros((len(sequences), dimension))\n",
        "    for i, sequence in enumerate(sequences):\n",
        "        results[i, sequence] = 1.  # set specific indices of results[i] to 1s\n",
        "    return results\n",
        "\n",
        "# Our vectorized training data\n",
        "x_train = vectorize_sequences(train_data)\n",
        "# Our vectorized test data\n",
        "x_test = vectorize_sequences(test_data)\n",
        "# Our vectorized labels\n",
        "y_train = np.asarray(train_labels).astype('float32')\n",
        "y_test = np.asarray(test_labels).astype('float32')"
      ],
      "execution_count": 9,
      "outputs": []
    },
    {
      "cell_type": "markdown",
      "metadata": {
        "colab_type": "text",
        "id": "wrMGJEmKjjJM"
      },
      "source": [
        "See what your chosen training review looks like now:"
      ]
    },
    {
      "cell_type": "code",
      "metadata": {
        "colab_type": "code",
        "id": "JAxV8dScjjJM",
        "colab": {
          "base_uri": "https://localhost:8080/",
          "height": 51
        },
        "outputId": "bf6c86e4-d4dd-44ff-d99b-9be16f0bb50a"
      },
      "source": [
        "print(np.shape(x_train))\n",
        "print(x_train[mynumber,:])"
      ],
      "execution_count": 10,
      "outputs": [
        {
          "output_type": "stream",
          "text": [
            "(25000, 10000)\n",
            "[0. 1. 1. ... 0. 0. 0.]\n"
          ],
          "name": "stdout"
        }
      ]
    },
    {
      "cell_type": "markdown",
      "metadata": {
        "colab_type": "text",
        "id": "umGB3Mok3hcP"
      },
      "source": [
        "<font color=red>Explain in your own words what you have done here. </font>\n",
        "\n",
        "I have printed an array with 25000 rows and 10000 columns. The rows represent the number of reviews and the coolumns represent the 10,000 most common words. This array will turn a entire columns to 1s if a common word is present. \n",
        "\n",
        "<font color=red>Pick an example of a word in the review you have chosen and show step by step how that word ends up determining what part of `x_train`:</font> (in other words, something like \"the word `wonderful` was in my review.  It is the Xth word in the dictionary, so...\" (what happened with `train_data`, and then how did that affect `x_data`?)\n",
        "\n",
        "An example word can be \"hooked\" and if this word is present in the 10000 most common words then it will be the xth word in the dictionary and if this word is present the column associated with this word will become 1. I assume if positive word are found in a review the machine learning model will label it as positive. \n",
        "\n",
        "\n",
        "\n",
        "<font color=red>What does the variable `y_train` contain?</font>\n",
        "\n",
        "y train contains the train labels for the program."
      ]
    },
    {
      "cell_type": "markdown",
      "metadata": {
        "colab_type": "text",
        "id": "wr7iRfIPjjJU"
      },
      "source": [
        "Now our data is ready to be fed into a neural network.\n",
        "\n",
        "First, we construct a very simple model of a three layer network.  For now, don't worry about the details of the layers, unless you want to dig into it yourself (see, e.g. the Chollet book, section 3.4, for more details)."
      ]
    },
    {
      "cell_type": "code",
      "metadata": {
        "colab_type": "code",
        "id": "GSPIRB-zjjJX",
        "colab": {}
      },
      "source": [
        "model = models.Sequential()\n",
        "model.add(layers.Dense(16, activation='relu', input_shape=(10000,)))\n",
        "model.add(layers.Dense(16, activation='relu'))\n",
        "model.add(layers.Dense(1, activation='sigmoid'))"
      ],
      "execution_count": 11,
      "outputs": []
    },
    {
      "cell_type": "markdown",
      "metadata": {
        "colab_type": "text",
        "id": "0hGEmv0ejjJb"
      },
      "source": [
        "(This cell copied from Chollet)\n",
        "\n",
        "Lastly, we need to pick a loss function and an optimizer. Since we are facing a binary classification problem and the output of our network \n",
        "is a probability (we end our network with a single-unit layer with a sigmoid activation), is it best to use the `binary_crossentropy` loss. \n",
        "It isn't the only viable choice: you could use, for instance, `mean_squared_error`. But crossentropy is usually the best choice when you \n",
        "are dealing with models that output probabilities. Crossentropy is a quantity from the field of Information Theory, that measures the \"distance\" \n",
        "between probability distributions, or in our case, between the ground-truth distribution and our predictions.\n",
        "\n",
        "Here's the step where we configure our model with the `rmsprop` optimizer and the `binary_crossentropy` loss function. Note that we will \n",
        "also monitor accuracy during training."
      ]
    },
    {
      "cell_type": "code",
      "metadata": {
        "colab_type": "code",
        "id": "21CgonamjjJc",
        "colab": {}
      },
      "source": [
        "model.compile(optimizer='rmsprop',\n",
        "              loss='binary_crossentropy',\n",
        "              metrics=['accuracy'])"
      ],
      "execution_count": 12,
      "outputs": []
    },
    {
      "cell_type": "markdown",
      "metadata": {
        "colab_type": "text",
        "id": "lmkK-uxa4rE2"
      },
      "source": [
        "<font color=red>In your own words, what did the previous cell do?</font>\n",
        "\n",
        "The previous cell adds a loss function and optimizer to our model. The loss function or method is binary crossentropy which is best since we are dealing with probabilities and the optimizer is the rmsprop. \n",
        "\n"
      ]
    },
    {
      "cell_type": "markdown",
      "metadata": {
        "colab_type": "text",
        "id": "dwgCm8aCjjJm"
      },
      "source": [
        "# Validating our approach\n",
        "\n",
        "We need to have a way to assess whether the network is doing its job, while it is being built.  To achieve this goal, we set aside 10,000 examples out of the training set to be a ``validation set''.  The network will train on the 15,000 that are left, and then it will apply its model to the 10,000 in the validation set.  "
      ]
    },
    {
      "cell_type": "code",
      "metadata": {
        "colab_type": "code",
        "id": "Kl7jSft4jjJn",
        "colab": {}
      },
      "source": [
        "x_val = x_train[:10000]\n",
        "partial_x_train = x_train[10000:]\n",
        "\n",
        "y_val = y_train[:10000]\n",
        "partial_y_train = y_train[10000:]"
      ],
      "execution_count": 14,
      "outputs": []
    },
    {
      "cell_type": "markdown",
      "metadata": {
        "colab_type": "text",
        "id": "mhbR6grg5spv"
      },
      "source": [
        "<font color=red>What is the difference between `x_val` and `partial_x_train`?</font>\n",
        "\n",
        "xval seems to to be the reviews in the validation set for the program and parial x train only trains a partial amount of the total set."
      ]
    },
    {
      "cell_type": "markdown",
      "metadata": {
        "colab_type": "text",
        "collapsed": true,
        "id": "ddsjoqSXjjJq"
      },
      "source": [
        "# Training the Network\n",
        "\n",
        "Now, we train the network.  We can set the number of epochs (how many times to iterate).  We will start with 20.  We also need to have the computer pick out sub-samples from our training set to act on at a time.  It would take far too long to process 15,000 reviews all at once.  So we choose 512 as the batch size.  Finally, we pass the validation sample to the code for it to use as a test of how well the network performs.\n",
        "\n",
        "Remember, the loss function is essentially how far off your model is from ideal.  The accuracy function is what fraction of the model's prediction match what is in `y_train`.\n",
        "\n",
        "Let's try it!  Watch the four output numbers as it runs."
      ]
    },
    {
      "cell_type": "code",
      "metadata": {
        "colab_type": "code",
        "id": "wcoMP3HGjjJq",
        "colab": {
          "base_uri": "https://localhost:8080/",
          "height": 697
        },
        "outputId": "1bcc038d-e180-46e8-d807-33ce7751e661"
      },
      "source": [
        "history = model.fit(partial_x_train,\n",
        "                    partial_y_train,\n",
        "                    epochs=20,\n",
        "                    batch_size=512,\n",
        "                    validation_data=(x_val, y_val))"
      ],
      "execution_count": 15,
      "outputs": [
        {
          "output_type": "stream",
          "text": [
            "Epoch 1/20\n",
            "30/30 [==============================] - 3s 103ms/step - loss: 0.4955 - accuracy: 0.7889 - val_loss: 0.3662 - val_accuracy: 0.8731\n",
            "Epoch 2/20\n",
            "30/30 [==============================] - 1s 33ms/step - loss: 0.2965 - accuracy: 0.9050 - val_loss: 0.3115 - val_accuracy: 0.8798\n",
            "Epoch 3/20\n",
            "30/30 [==============================] - 1s 32ms/step - loss: 0.2183 - accuracy: 0.9279 - val_loss: 0.2992 - val_accuracy: 0.8779\n",
            "Epoch 4/20\n",
            "30/30 [==============================] - 1s 32ms/step - loss: 0.1736 - accuracy: 0.9439 - val_loss: 0.2735 - val_accuracy: 0.8899\n",
            "Epoch 5/20\n",
            "30/30 [==============================] - 1s 32ms/step - loss: 0.1384 - accuracy: 0.9569 - val_loss: 0.2812 - val_accuracy: 0.8869\n",
            "Epoch 6/20\n",
            "30/30 [==============================] - 1s 32ms/step - loss: 0.1164 - accuracy: 0.9650 - val_loss: 0.3171 - val_accuracy: 0.8779\n",
            "Epoch 7/20\n",
            "30/30 [==============================] - 1s 32ms/step - loss: 0.0953 - accuracy: 0.9702 - val_loss: 0.3095 - val_accuracy: 0.8825\n",
            "Epoch 8/20\n",
            "30/30 [==============================] - 1s 32ms/step - loss: 0.0810 - accuracy: 0.9755 - val_loss: 0.3291 - val_accuracy: 0.8839\n",
            "Epoch 9/20\n",
            "30/30 [==============================] - 1s 33ms/step - loss: 0.0653 - accuracy: 0.9823 - val_loss: 0.3819 - val_accuracy: 0.8723\n",
            "Epoch 10/20\n",
            "30/30 [==============================] - 1s 32ms/step - loss: 0.0524 - accuracy: 0.9869 - val_loss: 0.4619 - val_accuracy: 0.8574\n",
            "Epoch 11/20\n",
            "30/30 [==============================] - 1s 33ms/step - loss: 0.0459 - accuracy: 0.9892 - val_loss: 0.3994 - val_accuracy: 0.8783\n",
            "Epoch 12/20\n",
            "30/30 [==============================] - 1s 33ms/step - loss: 0.0351 - accuracy: 0.9927 - val_loss: 0.4368 - val_accuracy: 0.8730\n",
            "Epoch 13/20\n",
            "30/30 [==============================] - 1s 32ms/step - loss: 0.0292 - accuracy: 0.9941 - val_loss: 0.4567 - val_accuracy: 0.8733\n",
            "Epoch 14/20\n",
            "30/30 [==============================] - 1s 33ms/step - loss: 0.0237 - accuracy: 0.9953 - val_loss: 0.4906 - val_accuracy: 0.8697\n",
            "Epoch 15/20\n",
            "30/30 [==============================] - 1s 33ms/step - loss: 0.0183 - accuracy: 0.9976 - val_loss: 0.5249 - val_accuracy: 0.8674\n",
            "Epoch 16/20\n",
            "30/30 [==============================] - 1s 33ms/step - loss: 0.0161 - accuracy: 0.9969 - val_loss: 0.5502 - val_accuracy: 0.8682\n",
            "Epoch 17/20\n",
            "30/30 [==============================] - 1s 33ms/step - loss: 0.0089 - accuracy: 0.9997 - val_loss: 0.5839 - val_accuracy: 0.8670\n",
            "Epoch 18/20\n",
            "30/30 [==============================] - 1s 33ms/step - loss: 0.0093 - accuracy: 0.9991 - val_loss: 0.6291 - val_accuracy: 0.8639\n",
            "Epoch 19/20\n",
            "30/30 [==============================] - 1s 33ms/step - loss: 0.0088 - accuracy: 0.9984 - val_loss: 0.6491 - val_accuracy: 0.8675\n",
            "Epoch 20/20\n",
            "30/30 [==============================] - 1s 33ms/step - loss: 0.0042 - accuracy: 0.9999 - val_loss: 0.7300 - val_accuracy: 0.8630\n"
          ],
          "name": "stdout"
        }
      ]
    },
    {
      "cell_type": "markdown",
      "metadata": {
        "colab_type": "text",
        "id": "FIq73Uop63Nu"
      },
      "source": [
        "<font color=red>Define, in your own words, what each of the four values (`loss`, `accuracy`, `val_loss`, `val_accuracy`) means, and what you observe the numbers doing over the course of the 20 epochs:</font>\n",
        "\n",
        "Loss is the number which repersents how poorly the model is performing or bad the model is at predicitng if a review is positive or negative. Accuracy displays number of correct predictions over total number of predictions. Accuracy displays the value of how good the model is a predicting if a review is good or bad. Val_loss and Val_accuracy are loss and acciracy numbers for purely the validation set."
      ]
    },
    {
      "cell_type": "markdown",
      "metadata": {
        "colab_type": "text",
        "id": "FwYPr0hOjjJt"
      },
      "source": [
        "# Evaluating the results\n",
        "\n",
        "In the last cell, I asked you to describe what the four numbers did.  Now, let's get more quantitative about that.  We're going to graph them.  The model fit function returned a variable called `history`.  This is a record of how the model performed.  Let's pull the numbers out of it that we need."
      ]
    },
    {
      "cell_type": "code",
      "metadata": {
        "colab_type": "code",
        "id": "IlrVpzlqjjJy",
        "colab": {
          "base_uri": "https://localhost:8080/",
          "height": 295
        },
        "outputId": "0c083a56-d659-4330-ccf0-25f86ae00120"
      },
      "source": [
        "history_dict = history.history\n",
        "history_dict.keys()\n",
        "acc = history.history['accuracy']\n",
        "val_acc = history.history['val_accuracy']\n",
        "loss = history.history['loss']\n",
        "val_loss = history.history['val_loss']\n",
        "\n",
        "epochs = range(1, len(acc) + 1)\n",
        "\n",
        "# \"bo\" is for \"blue dot\"\n",
        "plt.plot(epochs, loss, 'ro', label='Training loss')\n",
        "# b is for \"solid blue line\"\n",
        "plt.plot(epochs, val_loss, 'bx-', label='Validation loss')\n",
        "plt.title('Training and validation loss')\n",
        "plt.xlabel('Epochs')\n",
        "plt.ylabel('Loss')\n",
        "plt.legend()\n",
        "\n",
        "plt.show()"
      ],
      "execution_count": 16,
      "outputs": [
        {
          "output_type": "display_data",
          "data": {
            "image/png": "[encoded data removed]",
            "text/plain": [
              "<Figure size 432x288 with 1 Axes>"
            ]
          },
          "metadata": {
            "tags": [],
            "needs_background": "light"
          }
        }
      ]
    },
    {
      "cell_type": "code",
      "metadata": {
        "colab_type": "code",
        "id": "XHOUi_VJjjJ1",
        "colab": {
          "base_uri": "https://localhost:8080/",
          "height": 295
        },
        "outputId": "6e69a57b-7002-4f08-bab1-3a5182878b48"
      },
      "source": [
        "plt.clf()   # clear figure\n",
        "acc_values = history_dict['accuracy']\n",
        "val_acc_values = history_dict['val_accuracy']\n",
        "\n",
        "plt.plot(epochs, acc, 'ro', label='Training acc')\n",
        "plt.plot(epochs, val_acc, 'bx-', label='Validation acc')\n",
        "plt.title('Training and validation accuracy')\n",
        "plt.xlabel('Epochs')\n",
        "plt.ylabel('Loss')\n",
        "plt.legend()\n",
        "\n",
        "plt.show()"
      ],
      "execution_count": 17,
      "outputs": [
        {
          "output_type": "display_data",
          "data": {
            "image/png": "[encoded data removed]",
            "text/plain": [
              "<Figure size 432x288 with 1 Axes>"
            ]
          },
          "metadata": {
            "tags": [],
            "needs_background": "light"
          }
        }
      ]
    },
    {
      "cell_type": "markdown",
      "metadata": {
        "colab_type": "text",
        "id": "3s5clP71jjJ3"
      },
      "source": [
        "<font color=red>In this cell, I want you to describe and interpret what you see here.  There are four curves in two graphs.\n",
        "\n",
        "Both graphs have loss as y axis and the number of epochs as x axis. Additionally the initial graph only displays the training loss and validation loss. The training loss went down over the epochs but the validation loss increased with epochs. In the second graph the training accuracy curve starts near 0.8 and goes toward 1 indicating the curve for accuracy is going toward 100% accuracy. Howver the validation curve accuracy remianed overall stagnant.\n",
        "\n",
        "<P>First: what are the red dots telling you?  In other words, what do they represent, how do they change, and what do you infer from that change?\n",
        "\n",
        "The red dots in the initial graph represent loss number at a specific epoch and these go toward 0 indicating that the model is predicitng more reviews correctly compared to the start of the epochs. In the second graph the red dots represent the training accuracy. The training accuracy go towards 1.00 or 100 percent indicating that the model is predicing the data correctly.\n",
        "\n",
        "<P>Second: what does the blue line tell you?<P>Do these trends surprise you at all?</font>\n",
        "\n",
        "The blue lines are the accuracy and loss for the validation set. These lines were either stable such as the validation set one or had a downward curve like the initial one. These trends suprise me since I expected them to have similar pattern to regular loss and accuracy values."
      ]
    },
    {
      "cell_type": "markdown",
      "metadata": {
        "colab_type": "text",
        "id": "UR7_FyNm-Gco"
      },
      "source": [
        "The key point you should have recognized is that while the model gets better and better at matching the training data, that doesn't necessarily help it match the validation data.  The model is getting really good at identifying *these* movie reviews, but at a certain point, it can't do any better at classifying *other* movie reviews.\n",
        "\n",
        "<font color=red>At what epoch does this model perform best on the validation data?</font>\n",
        "\n",
        "At the forth epoch since the validation accuracy was the highest at that point 88% and the loss was at it's lowest compared to all other epochs."
      ]
    },
    {
      "cell_type": "code",
      "metadata": {
        "colab_type": "code",
        "id": "hroX0qaUjjJ4",
        "colab": {
          "base_uri": "https://localhost:8080/",
          "height": 170
        },
        "outputId": "aef0ef4b-f3a2-480a-e915-93d6c7479847"
      },
      "source": [
        "# Copy the code here that defines the three layers of the network:\n",
        "\n",
        "model = models.Sequential()\n",
        "model.add(layers.Dense(16, activation='relu', input_shape=(10000,)))\n",
        "model.add(layers.Dense(16, activation='relu'))\n",
        "model.add(layers.Dense(1, activation='sigmoid'))\n",
        "\n",
        "# Copy the code here that compiles the loss and accuracy functions\n",
        "\n",
        "model.compile(optimizer='rmsprop',\n",
        "              loss='binary_crossentropy',\n",
        "              metrics=['accuracy'])\n",
        "\n",
        "# Copy the code here that trains the model, but instead of going all the way out to 20 epochs, stop at the epoch you think makes the most sense.\n",
        "best_epoch = 4 # Change this!!!\n",
        "model.fit(x_train, y_train, epochs=best_epoch, batch_size=512)\n"
      ],
      "execution_count": 18,
      "outputs": [
        {
          "output_type": "stream",
          "text": [
            "Epoch 1/4\n",
            "49/49 [==============================] - 1s 26ms/step - loss: 0.4773 - accuracy: 0.8180\n",
            "Epoch 2/4\n",
            "49/49 [==============================] - 1s 26ms/step - loss: 0.2743 - accuracy: 0.9058\n",
            "Epoch 3/4\n",
            "49/49 [==============================] - 1s 26ms/step - loss: 0.2090 - accuracy: 0.9244\n",
            "Epoch 4/4\n",
            "49/49 [==============================] - 1s 26ms/step - loss: 0.1735 - accuracy: 0.9388\n"
          ],
          "name": "stdout"
        },
        {
          "output_type": "execute_result",
          "data": {
            "text/plain": [
              "<tensorflow.python.keras.callbacks.History at 0x7f2e053156d8>"
            ]
          },
          "metadata": {
            "tags": []
          },
          "execution_count": 18
        }
      ]
    },
    {
      "cell_type": "markdown",
      "metadata": {
        "colab_type": "text",
        "id": "ejeJNh84870N"
      },
      "source": [
        "Now you're going to test your model on the test data -- the 25,000 reviews we set aside at the beginning.  Your model hasn't see these data; it can't be biased by them in any way.  It will return the loss function and the accuracy of the model as it acts on the test data."
      ]
    },
    {
      "cell_type": "code",
      "metadata": {
        "colab_type": "code",
        "id": "cSNQmjxDjjJ6",
        "colab": {
          "base_uri": "https://localhost:8080/",
          "height": 51
        },
        "outputId": "7d3da479-d558-4961-b4f0-c295dfb9bc8e"
      },
      "source": [
        "results = model.evaluate(x_test, y_test)\n",
        "print(results)"
      ],
      "execution_count": 19,
      "outputs": [
        {
          "output_type": "stream",
          "text": [
            "782/782 [==============================] - 1s 2ms/step - loss: 0.2917 - accuracy: 0.8838\n",
            "[0.2916523516178131, 0.883840024471283]\n"
          ],
          "name": "stdout"
        }
      ]
    },
    {
      "cell_type": "markdown",
      "metadata": {
        "colab_type": "text",
        "id": "xOac_beMjjJ9"
      },
      "source": [
        "<font color=red>How accurate was your model on the test data?</font>\n",
        "\n",
        "The model was relativly accurate since the accuracy number is high rangeing from 88 to 93 percent and the loss is low therefore this indicates the model is accuracte on the model test data.\n"
      ]
    },
    {
      "cell_type": "markdown",
      "metadata": {
        "colab_type": "text",
        "id": "D2gzpBg0jjKA"
      },
      "source": [
        "# Confidence of Prediction\n",
        "\n",
        "We have collapsed the prediction into a binary determination: was the review positive (1) or negative (0)?  But that's not actually what the model outputs.  It outputs a number between 0 and 1.  The closer its prediction is to either end, the more confident the model is in its classification.  Let's look at some of its predictions:"
      ]
    },
    {
      "cell_type": "code",
      "metadata": {
        "colab_type": "code",
        "id": "17PnZ7EAjjKA",
        "colab": {
          "base_uri": "https://localhost:8080/",
          "height": 561
        },
        "outputId": "40ddb7bd-7cf9-48ea-9d28-8c4e9919324d"
      },
      "source": [
        "predictions = model.predict(x_test)\n",
        "print(np.shape(predictions))\n",
        "print('Review\\tLabel\\tPrediction')\n",
        "for i in np.arange(30):\n",
        "  print(i, '\\t',test_labels[i],'\\t',predictions[i]) \n",
        "\n"
      ],
      "execution_count": 20,
      "outputs": [
        {
          "output_type": "stream",
          "text": [
            "(25000, 1)\n",
            "Review\tLabel\tPrediction\n",
            "0 \t 0 \t [0.15234947]\n",
            "1 \t 1 \t [0.99953395]\n",
            "2 \t 1 \t [0.86021817]\n",
            "3 \t 0 \t [0.71160555]\n",
            "4 \t 1 \t [0.9390141]\n",
            "5 \t 1 \t [0.8281306]\n",
            "6 \t 1 \t [0.9981923]\n",
            "7 \t 0 \t [0.00341767]\n",
            "8 \t 0 \t [0.95245373]\n",
            "9 \t 1 \t [0.97894573]\n",
            "10 \t 1 \t [0.91903055]\n",
            "11 \t 0 \t [0.00439373]\n",
            "12 \t 0 \t [6.9863396e-05]\n",
            "13 \t 0 \t [0.02048954]\n",
            "14 \t 1 \t [0.99224985]\n",
            "15 \t 0 \t [1.1406256e-05]\n",
            "16 \t 1 \t [0.8871757]\n",
            "17 \t 0 \t [0.5667158]\n",
            "18 \t 0 \t [0.0023213]\n",
            "19 \t 0 \t [0.04066023]\n",
            "20 \t 1 \t [0.9947217]\n",
            "21 \t 1 \t [0.98982114]\n",
            "22 \t 1 \t [0.23108163]\n",
            "23 \t 1 \t [0.9146055]\n",
            "24 \t 1 \t [0.8210072]\n",
            "25 \t 1 \t [0.9641663]\n",
            "26 \t 0 \t [0.01848817]\n",
            "27 \t 1 \t [0.93577397]\n",
            "28 \t 1 \t [0.95173085]\n",
            "29 \t 0 \t [1.51455315e-05]\n"
          ],
          "name": "stdout"
        }
      ]
    },
    {
      "cell_type": "markdown",
      "metadata": {
        "colab_type": "text",
        "id": "Ruwu2bITjjKC"
      },
      "source": [
        "As you can see, the network is very confident for some samples (0.99 or more, or 0.01 or less) but less confident for others (0.6, 0.4). \n"
      ]
    },
    {
      "cell_type": "markdown",
      "metadata": {
        "colab_type": "text",
        "id": "Iy-yr1im_9nS"
      },
      "source": [
        "<font color=red>Your last task: pick at least four examples above.  One should have a very high predictive number, one should have a very low predictive number, and two should be as close to 0.5 as you can find.  Use the code above (copy it into a code cell below -- don't change what you have up there) to convert those reviews back into text and see if you agree with your neural network.  Find a case where the neural network was wrong, and convert that review back to text.  How would *you* label that review?</font>\n",
        "\n",
        "I could not find an example of the neural network in the 4 selected examples. However, i am not sure about the fisrt one the review could be negative looking at the words however, I cannot tell since the text is not in order. Therefore the first one could have been lablled incorrectly and it is actually negative or 0."
      ]
    },
    {
      "cell_type": "code",
      "metadata": {
        "id": "b2IicxvMbVNX",
        "colab_type": "code",
        "colab": {
          "base_uri": "https://localhost:8080/",
          "height": 54
        },
        "outputId": "73316077-18c2-4502-fdd5-12f8a2b74bfc"
      },
      "source": [
        "#High prediciton number\n",
        "decoded_review = ' '.join([reverse_word_index.get(i - 4, '?') for i in test_data[4]])\n",
        "print(decoded_review)\n"
      ],
      "execution_count": 25,
      "outputs": [
        {
          "output_type": "stream",
          "text": [
            "? from if people into copy back and york fun stinks father the it called i side is is i side kill created classic movie cgi were about three in was favorite was not stupid better widmark ? hill you sure the ? an get justify not ? better less days of ? back on mountains i side to do ? the to loud family is is of often i cinematic difficult it his of often even dirty east just government movie s budget i side shine he three in is is only stay stay own work plays about this what ? work basically ? work deal work\n"
          ],
          "name": "stdout"
        }
      ]
    },
    {
      "cell_type": "code",
      "metadata": {
        "id": "XzOcug-rczt9",
        "colab_type": "code",
        "colab": {
          "base_uri": "https://localhost:8080/",
          "height": 54
        },
        "outputId": "5b3dca3c-9f2a-4ecc-826d-c642d16093f3"
      },
      "source": [
        "#Low prediciton number \n",
        "decoded_review = ' '.join([reverse_word_index.get(i - 15, '?') for i in test_data[15]])\n",
        "print(decoded_review)\n"
      ],
      "execution_count": 26,
      "outputs": [
        {
          "output_type": "stream",
          "text": [
            "? next even than full by film body dvd by ? i'm ? great like a ? to at depicted ? needed go was ? ? ? audience ? actor ? rowlands ? ? to ? ? somewhat ? ? effects talent ? fools ? ? the delivers likes ? movies the soon ? think the soon ? to the grade either film's have ? quest of drake kumar ? quest ? whimsical acting would ? and my ? make triumph the are bolivia ? script remembered has watching if offering some strange ? watching if being he understand the triumph flying the without or as soundtrack that states caring ? fighting they i time power ? ? the mood ? tony or ? awful ? to no comedy your ? cried once ? critics doubt be ? ? how make ? ? seeing young you school ? obvious ? good through ? do even if carla on ? all ? to the ? down ? ? danny the ? ? depict script can ? to ? the scary such drug ? ? shoot head civil rather you the took ? ? to man for madness ? run a alike al least ? stan notorious out at it's coming it's looks his ? to plot no ? ? gore ? campy ? to ? are really ? family teen ? line ? stupidity since to ? under ? the acting affected effects ? ben the acting ? incoherent ? show ? i've bitch the acting\n"
          ],
          "name": "stdout"
        }
      ]
    },
    {
      "cell_type": "code",
      "metadata": {
        "id": "S4T0ilWKdRtu",
        "colab_type": "code",
        "colab": {
          "base_uri": "https://localhost:8080/",
          "height": 54
        },
        "outputId": "aad5b71e-827a-4707-8d5d-44bf7ac0d67d"
      },
      "source": [
        "# Near 0.5\n",
        "decoded_review = ' '.join([reverse_word_index.get(i - 17, '?') for i in test_data[17]])\n",
        "print(decoded_review)\n"
      ],
      "execution_count": 31,
      "outputs": [
        {
          "output_type": "stream",
          "text": [
            "? deliver ? astaire ? ? patrick on she's the i money with so ? ? couple of featured virgin ? richard show i cameo ? wig their sound they of hit ? episodes arrives considers ? i money whole they than that lesbian spite ? turns ? i religious against ? ? ? at ? clips believe ? powerful ? ? like ? ? ? ? due satire consequences continues yourself ? nature ? found are so ? ? dark budget deliver ? ? break ? ? mess racism ? those govinda ? when naked lot ? ? mob ? ? ? performers excruciatingly ? bat ? story i development is ? ? ? especially so ? all ? setting references deliver ? ? series chosen ? ? ? ? chances understands due states deed you ? junior proof pitiful ? deliver done he thing characters and ? adam by that first quite i everyone many ? ? world want ? powerful major ? his so ? ? ? that's genre the given won't what movies ? boy ? going bent given a\n"
          ],
          "name": "stdout"
        }
      ]
    },
    {
      "cell_type": "code",
      "metadata": {
        "id": "VZGchf43ddUP",
        "colab_type": "code",
        "colab": {
          "base_uri": "https://localhost:8080/",
          "height": 54
        },
        "outputId": "c9f6256a-2bb2-4975-d7b1-b5ec5fcf476b"
      },
      "source": [
        "#Near 0.5\n",
        "decoded_review = ' '.join([reverse_word_index.get(i - 3, '?') for i in test_data[3]])\n",
        "print(decoded_review)\n"
      ],
      "execution_count": 32,
      "outputs": [
        {
          "output_type": "stream",
          "text": [
            "? i generally love this type of movie however this time i found myself wanting to kick the screen since i can't do that i will just complain about it this was absolutely idiotic the things that happen with the dead kids are very cool but the alive people are absolute idiots i am a grown man pretty big and i can defend myself well however i would not do half the stuff the little girl does in this movie also the mother in this movie is reckless with her children to the point of neglect i wish i wasn't so angry about her and her actions because i would have otherwise enjoyed the flick what a number she was take my advise and fast forward through everything you see her do until the end also is anyone else getting sick of watching movies that are filmed so dark anymore one can hardly see what is being filmed as an audience we are ? involved with the actions on the screen so then why the hell can't we have night vision\n"
          ],
          "name": "stdout"
        }
      ]
    },
    {
      "cell_type": "code",
      "metadata": {
        "colab_type": "code",
        "id": "YLp85X2CCAnF",
        "colab": {}
      },
      "source": [
        "# For example, when I ran this, review #3 was labeled 0, but the computer calculated 0.918!\n",
        "# Let's see what that looks like.\n",
        "decoded_review = ' '.join([reverse_word_index.get(i - 3, '?') for i in test_data[3]])\n",
        "print(decoded_review)\n",
        "# For your choices, change the 3 into some other number."
      ],
      "execution_count": null,
      "outputs": []
    },
    {
      "cell_type": "markdown",
      "metadata": {
        "colab_type": "text",
        "id": "cMcBY1zKjjKD"
      },
      "source": [
        "# Further experiments, if you want to dig deeper.\n",
        "\n",
        "(Copied from Chollet)\n",
        "\n",
        "* We were using 2 hidden layers. Try to use 1 or 3 hidden layers and see how it affects validation and test accuracy.\n",
        "* Try to use layers with more hidden units or less hidden units: 32 units, 64 units...\n",
        "* Try to use the `mse` loss function instead of `binary_crossentropy`.\n",
        "* Try to use the `tanh` activation (an activation that was popular in the early days of neural networks) instead of `relu`.\n",
        "\n",
        "These experiments will help convince you that the architecture choices we have made are all fairly reasonable, although they can still be \n",
        "improved!"
      ]
    },
    {
      "cell_type": "markdown",
      "metadata": {
        "colab_type": "text",
        "id": "I4OsGHHxjjKD"
      },
      "source": [
        "# Conclusions\n",
        "\n",
        "(Copied from Chollet)\n",
        "\n",
        "Here's what you should take away from this example:\n",
        "\n",
        "* There's usually quite a bit of preprocessing you need to do on your raw data in order to be able to feed it -- as tensors -- into a neural \n",
        "network. In the case of sequences of words, they can be encoded as binary vectors -- but there are other encoding options too.\n",
        "* Stacks of `Dense` layers with `relu` activations can solve a wide range of problems (including sentiment classification), and you will \n",
        "likely use them frequently.\n",
        "* In a binary classification problem (two output classes), your network should end with a `Dense` layer with 1 unit and a `sigmoid` activation, \n",
        "i.e. the output of your network should be a scalar between 0 and 1, encoding a probability.\n",
        "* With such a scalar sigmoid output, on a binary classification problem, the loss function you should use is `binary_crossentropy`.\n",
        "* The `rmsprop` optimizer is generally a good enough choice of optimizer, whatever your problem. That's one less thing for you to worry \n",
        "about.\n",
        "* As they get better on their training data, neural networks eventually start _overfitting_ and end up obtaining increasingly worse results on data \n",
        "never-seen-before. Make sure to always monitor performance on data that is outside of the training set.\n"
      ]
    },
    {
      "cell_type": "markdown",
      "metadata": {
        "colab_type": "text",
        "id": "3r8PldHZ84Ut"
      },
      "source": [
        "<font color=red>As always, summarize in your own words what you learned from this exercise.</font>\n",
        "\n",
        "I learned that it is best to split your dataset to have both training and testing datasets. Additionally, I learned the importance of the validation set and learned how to create graphs to visualize this data. Also, I learned what binary crossentopy is and how it works."
      ]
    },
    {
      "cell_type": "code",
      "metadata": {
        "colab_type": "code",
        "id": "lyhzh4zI897j",
        "colab": {}
      },
      "source": [
        ""
      ],
      "execution_count": null,
      "outputs": []
    }
  ]
}